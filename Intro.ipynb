{
 "cells": [
  {
   "cell_type": "markdown",
   "metadata": {},
   "source": [
    "# Deep Learning - Assignment\n",
    "\n",
    "Raichman Univercity"
   ]
  },
  {
   "cell_type": "markdown",
   "metadata": {},
   "source": [
    "## Introduction\n",
    "\n",
    "In this assignment I implemented generative text model with a deep multilayer RNN network based on GRU from **scratch** . The GRU was implement\n",
    "I will train the model on a corpus of Shakespeare books and then generate my own work."
   ]
  },
  {
   "cell_type": "markdown",
   "metadata": {},
   "source": [
    "## General Guidelines\n",
    "\n",
    "- This assignment requires running on GPU-enabled hardware. The run in the notebook done in google colab. Use the `checkpoint` to download the trained model back to your computer for inference and submission.\n",
    "- The repo is based on a assigment as part of the DEEP LEARNING course at Reichman University\n"
   ]
  },
  {
   "cell_type": "markdown",
   "metadata": {},
   "source": [
    "## Contents\n",
    "- [Sequence Models](#part1)\n",
    "    - [Text generation with a char-level RNN](#part1_1)\n",
    "    - [Obtaining the corpus](#part1_2)\n",
    "    - [Data Preprocessing](#part1_3)\n",
    "    - [Dataset Creation](#part1_4)\n",
    "    - [Model Implementation](#part1_5)\n",
    "    - [Generating text by sampling](#part1_6)\n",
    "    - [Training](#part1_7)\n",
    "    - [Generating a work of art](#part1_8)\n"
   ]
  }
 ],
 "metadata": {
  "kernelspec": {
   "display_name": "Python 3",
   "language": "python",
   "name": "python3"
  },
  "language_info": {
   "codemirror_mode": {
    "name": "ipython",
    "version": 3
   },
   "file_extension": ".py",
   "mimetype": "text/x-python",
   "name": "python",
   "nbconvert_exporter": "python",
   "pygments_lexer": "ipython3",
   "version": "3.8.5"
  }
 },
 "nbformat": 4,
 "nbformat_minor": 2
}
